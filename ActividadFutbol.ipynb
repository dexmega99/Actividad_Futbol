{
 "cells": [
  {
   "attachments": {},
   "cell_type": "markdown",
   "metadata": {},
   "source": [
    "- La liga italiana ha tenido fama de defensiva, creo que se meten menos de dos goles de media por partido.\n",
    "\n",
    "- ¿Se meten menos goles en Italia que en España?\n",
    "\n",
    "- ¿Hay diferencia de goles entre ligas?, ¿en que liga se meten más goles?.\n",
    "\n",
    "- ¿Se están metiendo menos goles en general en las 5 grandes ligas respecto el año pasado?"
   ]
  },
  {
   "cell_type": "code",
   "execution_count": 3,
   "metadata": {},
   "outputs": [],
   "source": [
    "import pandas as pd\n",
    "import matplotlib.pyplot as plt\n",
    "import seaborn as sns\n",
    "import numpy as np\n",
    "\n",
    "futbol_df=pd.read_csv(\"Futbol.csv\")\n",
    "\n",
    "ita_df=futbol_df[futbol_df[\"Country\"]==\"it ITA\"]\n",
    "\n",
    "esp_df=futbol_df[futbol_df[\"Country\"]==\"es ESP\"]\n",
    "\n",
    "fra_df=futbol_df[futbol_df[\"Country\"]==\"fr FRA\"]\n",
    "\n",
    "eng_df=futbol_df[futbol_df[\"Country\"]==\"eng ENG\"]\n",
    "\n",
    "de_df=futbol_df[futbol_df[\"Country\"]==\"de GER\"]"
   ]
  },
  {
   "cell_type": "code",
   "execution_count": 11,
   "metadata": {},
   "outputs": [
    {
     "name": "stdout",
     "output_type": "stream",
     "text": [
      "Media de goles en italia Country\n",
      "it ITA    31.45\n",
      "Name: GF, dtype: float64\n",
      "Media de goles en españa Country\n",
      "es ESP    29.05\n",
      "Name: GF, dtype: float64\n",
      "Media de goles marcados por partido en italia  Country\n",
      "it ITA    1.258\n",
      "Name: GPP, dtype: float64\n",
      "Media de goles marcados por partidos en españa Country\n",
      "es ESP    1.210417\n",
      "Name: GPP, dtype: float64\n"
     ]
    },
    {
     "name": "stderr",
     "output_type": "stream",
     "text": [
      "C:\\Users\\marcg\\AppData\\Local\\Temp\\ipykernel_1176\\1547584608.py:6: SettingWithCopyWarning: \n",
      "A value is trying to be set on a copy of a slice from a DataFrame.\n",
      "Try using .loc[row_indexer,col_indexer] = value instead\n",
      "\n",
      "See the caveats in the documentation: https://pandas.pydata.org/pandas-docs/stable/user_guide/indexing.html#returning-a-view-versus-a-copy\n",
      "  ita_df[\"GPP\"]=ita_df[\"GF\"]/ita_df[\"MP\"]\n",
      "C:\\Users\\marcg\\AppData\\Local\\Temp\\ipykernel_1176\\1547584608.py:7: SettingWithCopyWarning: \n",
      "A value is trying to be set on a copy of a slice from a DataFrame.\n",
      "Try using .loc[row_indexer,col_indexer] = value instead\n",
      "\n",
      "See the caveats in the documentation: https://pandas.pydata.org/pandas-docs/stable/user_guide/indexing.html#returning-a-view-versus-a-copy\n",
      "  esp_df[\"GPP\"]=esp_df[\"GF\"]/esp_df[\"MP\"]\n",
      "C:\\Users\\marcg\\AppData\\Local\\Temp\\ipykernel_1176\\1547584608.py:8: SettingWithCopyWarning: \n",
      "A value is trying to be set on a copy of a slice from a DataFrame.\n",
      "Try using .loc[row_indexer,col_indexer] = value instead\n",
      "\n",
      "See the caveats in the documentation: https://pandas.pydata.org/pandas-docs/stable/user_guide/indexing.html#returning-a-view-versus-a-copy\n",
      "  fra_df[\"GPP\"]=fra_df[\"GF\"]/fra_df[\"MP\"]\n",
      "C:\\Users\\marcg\\AppData\\Local\\Temp\\ipykernel_1176\\1547584608.py:9: SettingWithCopyWarning: \n",
      "A value is trying to be set on a copy of a slice from a DataFrame.\n",
      "Try using .loc[row_indexer,col_indexer] = value instead\n",
      "\n",
      "See the caveats in the documentation: https://pandas.pydata.org/pandas-docs/stable/user_guide/indexing.html#returning-a-view-versus-a-copy\n",
      "  eng_df[\"GPP\"]=eng_df[\"GF\"]/eng_df[\"MP\"]\n",
      "C:\\Users\\marcg\\AppData\\Local\\Temp\\ipykernel_1176\\1547584608.py:10: SettingWithCopyWarning: \n",
      "A value is trying to be set on a copy of a slice from a DataFrame.\n",
      "Try using .loc[row_indexer,col_indexer] = value instead\n",
      "\n",
      "See the caveats in the documentation: https://pandas.pydata.org/pandas-docs/stable/user_guide/indexing.html#returning-a-view-versus-a-copy\n",
      "  de_df[\"GPP\"]=de_df[\"GF\"]/de_df[\"MP\"]\n"
     ]
    }
   ],
   "source": [
    "ita_df.head()\n",
    "esp_df.head()\n",
    "\n",
    "#GF / MP = gole por partido\n",
    "futbol_df[\"GPP\"]=futbol_df[\"GF\"]/futbol_df[\"MP\"]\n",
    "ita_df[\"GPP\"]=ita_df[\"GF\"]/ita_df[\"MP\"]\n",
    "esp_df[\"GPP\"]=esp_df[\"GF\"]/esp_df[\"MP\"]\n",
    "fra_df[\"GPP\"]=fra_df[\"GF\"]/fra_df[\"MP\"]\n",
    "eng_df[\"GPP\"]=eng_df[\"GF\"]/eng_df[\"MP\"]\n",
    "de_df[\"GPP\"]=de_df[\"GF\"]/de_df[\"MP\"]\n",
    "\n",
    "ita_df.head()\n",
    "\n",
    "print(\"Media de goles en italia\", ita_df.groupby(\"Country\").mean()[\"GF\"])\n",
    "print(\"Media de goles en españa\", esp_df.groupby(\"Country\").mean()[\"GF\"])\n",
    "\n",
    "print(\"Media de goles marcados por partido en italia \",ita_df.groupby(\"Country\").mean()[\"GPP\"])\n",
    "print(\"Media de goles marcados por partidos en españa\",esp_df.groupby(\"Country\").mean()[\"GPP\"])"
   ]
  },
  {
   "attachments": {},
   "cell_type": "markdown",
   "metadata": {},
   "source": [
    "Veo que en italia se meten menos de dos goles por partido, voy a comprobar si esa diferencia es significativa, para ello voy a realizar un test de hipotesis:\n",
    "Ho (hipotesis nula): La media de goles marcados por patidos es igual a dos\n",
    "Ha (hipotesis alternativa):La media de goles marcados por patidos es menor a dos"
   ]
  },
  {
   "cell_type": "code",
   "execution_count": 5,
   "metadata": {},
   "outputs": [
    {
     "name": "stdout",
     "output_type": "stream",
     "text": [
      "               T  dof alternative         p-val         CI95%   cohen-d  \\\n",
      "T-test -7.635297   19        less  1.663923e-07  [-inf, 1.43]  1.707304   \n",
      "\n",
      "             BF10  power  \n",
      "T-test  9.831e+04    1.0  \n"
     ]
    }
   ],
   "source": [
    "from pingouin import ttest\n",
    "\n",
    "results=ttest(ita_df[\"GPP\"],2,alternative='less')\n",
    "\n",
    "print(results)"
   ]
  },
  {
   "attachments": {},
   "cell_type": "markdown",
   "metadata": {},
   "source": [
    "Hemos obtenido un p-val inferior a 0.05 por lo tanto podemos rechazar la hipotesis nula, podemos ver que hay una diferencia significativa de goles marcados por patidos."
   ]
  },
  {
   "attachments": {},
   "cell_type": "markdown",
   "metadata": {},
   "source": [
    "Veo que en españa se meten menos goles que en Italia, voy a comprobar si esa diferencia es significativa. Para ello vamos a realizar un test de hipotesis:\n",
    "Ho (hipotesis nula): La media de goles por partido de españa es la misma que en Italia\n",
    "Ha (hipotesis alternativa): La media de goles por partido en españa es menor que en Italia"
   ]
  },
  {
   "cell_type": "code",
   "execution_count": 6,
   "metadata": {},
   "outputs": [
    {
     "name": "stdout",
     "output_type": "stream",
     "text": [
      "               T  dof alternative    p-val         CI95%   cohen-d   BF10  \\\n",
      "T-test -0.381333   38        less  0.35254  [-inf, 0.16]  0.120588  0.655   \n",
      "\n",
      "           power  \n",
      "T-test  0.101995  \n"
     ]
    }
   ],
   "source": [
    "from pingouin import ttest\n",
    "\n",
    "results=ttest(esp_df[\"GPP\"],ita_df[\"GPP\"],alternative='less')\n",
    "\n",
    "print(results)"
   ]
  },
  {
   "attachments": {},
   "cell_type": "markdown",
   "metadata": {},
   "source": [
    "Hemos obtenido un p-val superior al 0.05 por lo tanto no podemos rechazar la hipotesis nula, a nivel matematico no hay diferencia significativas entre los goles por partido que se realizan en españa que en italia "
   ]
  },
  {
   "cell_type": "code",
   "execution_count": 12,
   "metadata": {},
   "outputs": [
    {
     "name": "stdout",
     "output_type": "stream",
     "text": [
      "Country\n",
      "de GER     1.579710\n",
      "eng ENG    1.356728\n",
      "es ESP     1.210417\n",
      "fr FRA     1.419231\n",
      "it ITA     1.258000\n",
      "Name: GPP, dtype: float64\n"
     ]
    }
   ],
   "source": [
    "print(futbol_df.groupby('Country')['GPP'].mean())"
   ]
  },
  {
   "attachments": {},
   "cell_type": "markdown",
   "metadata": {},
   "source": [
    "Veo que en una liga se meten mas goles que en otras ligas, voy a comprobar si esa diferencia es significativa. Para ello vamos a realizar un test de hipotesis:\n",
    "Ho (hipotesis nula): La media de goles por partido es la misma en todas las ligas\n",
    "Ha (hipotesis alternativa): La media de goles por partido en una liga es mayor que en las otras ligas"
   ]
  },
  {
   "cell_type": "code",
   "execution_count": 15,
   "metadata": {},
   "outputs": [
    {
     "name": "stdout",
     "output_type": "stream",
     "text": [
      "    Source  ddof1  ddof2         F     p-unc       np2\n",
      "0  Country      4     93  1.958386  0.107339  0.077688\n"
     ]
    }
   ],
   "source": [
    "from pingouin import anova\n",
    "anova_results = anova(data=futbol_df, dv='GPP', between='Country')\n",
    "\n",
    "print(anova_results)"
   ]
  },
  {
   "attachments": {},
   "cell_type": "markdown",
   "metadata": {},
   "source": [
    "veo que el p-value es mayor de 0.05, por lo tanto no se rechaza la hipotesis nula, se marca lo mismo en todas las ligas"
   ]
  },
  {
   "cell_type": "code",
   "execution_count": 16,
   "metadata": {},
   "outputs": [
    {
     "name": "stdout",
     "output_type": "stream",
     "text": [
      "  Contrast        A        B  Paired  Parametric         T        dof  \\\n",
      "0  Country   de GER  eng ENG   False        True  1.372091  35.992496   \n",
      "1  Country   de GER   es ESP   False        True  2.721908  31.236329   \n",
      "2  Country   de GER   fr FRA   False        True  1.069420  35.243214   \n",
      "3  Country   de GER   it ITA   False        True  2.182646  34.790722   \n",
      "4  Country  eng ENG   es ESP   False        True  1.028032  38.000000   \n",
      "5  Country  eng ENG   fr FRA   False        True -0.400405  38.000000   \n",
      "6  Country  eng ENG   it ITA   False        True  0.643032  38.000000   \n",
      "7  Country   es ESP   fr FRA   False        True -1.632363  38.000000   \n",
      "8  Country   es ESP   it ITA   False        True -0.381333  38.000000   \n",
      "9  Country   fr FRA   it ITA   False        True  1.149262  38.000000   \n",
      "\n",
      "  alternative     p-unc   BF10    hedges  \n",
      "0   two-sided  0.178527  0.657  0.433557  \n",
      "1   two-sided  0.010520  5.013  0.879319  \n",
      "2   two-sided  0.292150  0.494  0.340864  \n",
      "3   two-sided  0.035901  1.939  0.697205  \n",
      "4   two-sided  0.310434  0.469  0.318634  \n",
      "5   two-sided  0.691100  0.329 -0.124104  \n",
      "6   two-sided  0.524065  0.364  0.199305  \n",
      "7   two-sided  0.110864  0.876 -0.505943  \n",
      "8   two-sided  0.705080  0.327 -0.118192  \n",
      "9   two-sided  0.257630   0.52  0.356208  \n"
     ]
    }
   ],
   "source": [
    "from pingouin import pairwise_tests\n",
    "\n",
    "pair_results = pairwise_tests(data=futbol_df, dv='GPP', between='Country')\n",
    "print(pair_results)"
   ]
  },
  {
   "cell_type": "code",
   "execution_count": 17,
   "metadata": {},
   "outputs": [
    {
     "name": "stdout",
     "output_type": "stream",
     "text": [
      "Last 5\n",
      "D D D L L    1.458333\n",
      "D D D W W    0.782609\n",
      "D D L L D    0.440000\n",
      "D D L L L    0.807692\n",
      "D D L L W    0.960000\n",
      "               ...   \n",
      "W W L W W    2.869565\n",
      "W W W L D    2.115385\n",
      "W W W L W    1.916667\n",
      "W W W W L    1.960000\n",
      "W W W W W    2.043478\n",
      "Name: GPP, Length: 80, dtype: float64\n"
     ]
    }
   ],
   "source": [
    "print(futbol_df.groupby('Last 5')['GPP'].mean())"
   ]
  },
  {
   "cell_type": "code",
   "execution_count": 31,
   "metadata": {},
   "outputs": [
    {
     "name": "stdout",
     "output_type": "stream",
     "text": [
      "1.4082264484741267\n",
      "1.3604315973881191\n"
     ]
    }
   ],
   "source": [
    "futbol_anterior_df=pd.read_csv(\"Futbol_season_anterior.csv\")\n",
    "\n",
    "\n",
    "futbol_anterior_df[\"GPP\"]=futbol_anterior_df[\"GF\"]/futbol_anterior_df[\"MP\"]\n",
    "\n",
    "print(futbol_anterior_df['GPP'].mean())\n",
    "print(futbol_df['GPP'].mean())"
   ]
  },
  {
   "attachments": {},
   "cell_type": "markdown",
   "metadata": {},
   "source": [
    "Veo que en respecto al año pasado, se han metido menos goles, voy a comprobar si esa diferencia es significativa. Para ello vamos a realizar un test de hipotesis:\n",
    "Ho (hipotesis nula): La media de goles por partido es la misma que el año pasado\n",
    "Ha (hipotesis alternativa): La media de goles por partido respecto al año pasado es menor"
   ]
  },
  {
   "cell_type": "code",
   "execution_count": 33,
   "metadata": {},
   "outputs": [
    {
     "name": "stdout",
     "output_type": "stream",
     "text": [
      "               T  dof alternative    p-val         CI95%   cohen-d   BF10  \\\n",
      "T-test -0.381333   38        less  0.35254  [-inf, 0.16]  0.120588  0.655   \n",
      "\n",
      "           power  \n",
      "T-test  0.101995  \n"
     ]
    }
   ],
   "source": [
    "sults=ttest(futbol_df[\"GPP\"],futbol_anterior_df[\"GPP\"],alternative='less')\n",
    "\n",
    "print(results)"
   ]
  },
  {
   "attachments": {},
   "cell_type": "markdown",
   "metadata": {},
   "source": [
    "veo que el p-value es mayor de 0.05, por lo tanto no se rechaza la hipotesis nula, respecto al año pasado se han marcado lo misma cantidad"
   ]
  }
 ],
 "metadata": {
  "kernelspec": {
   "display_name": "Requeriments",
   "language": "python",
   "name": "python3"
  },
  "language_info": {
   "codemirror_mode": {
    "name": "ipython",
    "version": 3
   },
   "file_extension": ".py",
   "mimetype": "text/x-python",
   "name": "python",
   "nbconvert_exporter": "python",
   "pygments_lexer": "ipython3",
   "version": "3.9.12"
  },
  "orig_nbformat": 4
 },
 "nbformat": 4,
 "nbformat_minor": 2
}
